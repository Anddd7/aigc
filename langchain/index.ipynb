{
 "cells": [
  {
   "cell_type": "code",
   "execution_count": 11,
   "metadata": {},
   "outputs": [],
   "source": [
    "from langchain.llms import OpenAI\n",
    "from langchain.chat_models import ChatOpenAI\n",
    "\n",
    "llm = OpenAI()\n",
    "chat_model = ChatOpenAI()"
   ]
  },
  {
   "cell_type": "code",
   "execution_count": 16,
   "metadata": {},
   "outputs": [
    {
     "name": "stdout",
     "output_type": "stream",
     "text": [
      "System: You are a helpful assistant that translates English to French.\n",
      "Human: I love programming.\n"
     ]
    }
   ],
   "source": [
    "from langchain.prompts.chat import (\n",
    "    ChatPromptTemplate,\n",
    "    SystemMessagePromptTemplate,\n",
    "    HumanMessagePromptTemplate,\n",
    ")\n",
    "\n",
    "template = \"You are a helpful assistant that translates {input_language} to {output_language}.\"\n",
    "system_message_prompt = SystemMessagePromptTemplate.from_template(template)\n",
    "human_template = \"{text}\"\n",
    "human_message_prompt = HumanMessagePromptTemplate.from_template(human_template)\n",
    "\n",
    "chat_prompt = ChatPromptTemplate.from_messages([system_message_prompt, human_message_prompt])\n",
    "\n",
    "# chat_prompt.format_messages(input_language=\"English\", output_language=\"French\", text=\"I love programming.\")\n",
    "print(chat_prompt.format(input_language=\"English\", output_language=\"French\", text=\"I love programming.\"))\n"
   ]
  },
  {
   "cell_type": "code",
   "execution_count": 1,
   "metadata": {},
   "outputs": [
    {
     "name": "stdout",
     "output_type": "stream",
     "text": [
      "\n",
      "你是一名科技行业的专家，正在写一篇关于人工智能的博客，这篇文章的目标受众是程序员。\n",
      "你想表达的中心思想是人工智能的发展，主要包括但不限于这些主题：人工智能的历史,人工智能的现状,人工智能的未来。\n",
      "请以 markdown 格式给出目录结构和大纲。例如：\n",
      "```markdown\n",
      "# 标题\n",
      "## 子标题\n",
      "    这一章讲的是 ...\n",
      "### 子子标题\n",
      "    这一章讲的是 ...\n",
      "## 子标题\n",
      "    这一章讲的是 ...\n",
      "### 子子标题\n",
      "    这一章讲的是 ...\n",
      "```\n",
      "\n",
      "\n",
      "请写围绕上述主题，展开讲一下人工智能的历史这一段落的内容应该如何写。\n",
      "\n"
     ]
    }
   ],
   "source": [
    "import senario\n",
    "\n",
    "propmt = senario.write_blog.format(domain=\"科技\", topic=\"人工智能\", audience=\"程序员\", main_idea=\"人工智能的发展\", subtopics=\"人工智能的历史,人工智能的现状,人工智能的未来\")\n",
    "print(propmt)\n",
    "\n",
    "propmt = senario.write_paragraph.format(subtopic=\"人工智能的历史\")\n",
    "print(propmt)"
   ]
  },
  {
   "cell_type": "code",
   "execution_count": 2,
   "metadata": {},
   "outputs": [
    {
     "name": "stdout",
     "output_type": "stream",
     "text": [
      "\n",
      "你是一个专家级ChatGPT Prompt Engineer，在Prompt Engineering方面具有专业知识。在接下来的互动过程中，你会称呼我为Anddd7。让我们合作创建更好的 ChatGPT 提示。我们将进行如下交互:\n",
      "1.我会告诉我需要你帮助的工作。\n",
      "2.根据我的要求，您将建议您应该承担的其他专家角色，除了ChatGPT Prompt Engineer。然后，您将询问是否应继续执行建议的角色，或修改它们以获得更好的结果。\n",
      "2.1.如果我同意，您将采用所有其他专家角色，包括最初的ChatGPT Prompt Engineer角色\n",
      "2.2.如果我不同意，您将询问应删除哪些角色，消除这些角色并保留剩余的角色，包括最初的ChatGPT Prompt Engineer角色，然后再继续。\n",
      "3.您将向我确认您的活动专家角色，概述每个角色的技能，并询问我是否要修改任何角色。\n",
      "3.1.如果我同意修改，您将询问要添加或删除哪些角色，我将通知您。重复步骤5，直到我对角色满意为止。\n",
      "3.2.如果我不同意修改，请继续下一步。\n",
      "4.你会向我询问:\"我怎样才能帮助【我对步骤1的回答】?\n",
      "5.我会给出我的答案\n",
      "6.你会问我是否想添加任何参考信息来制作完美的提示\n",
      "6.1.如果我同意添加，你会问我：“请给出想使用的参考信息”。重复步骤 6.1，直到我回答添加完毕。\n",
      "6.2.如果我不同意添加，请继续下一步\n",
      "7.您将以列表格式询问我有关原始提示的更多细节，以充分了解我的期望。\n",
      "8.我会回答你的问题。\n",
      "9.从这一点开始，您将在所有确认的专家角色下操作，并使用我的原始提示和步骤7中的其他细节创建详细的更好的 ChatGPT 提示。提出新的提示并征求我的反馈。\n",
      "\n",
      "\n",
      "你将作为一个云原生专家与我合作完成写一本介绍云原生工程实践的书。接下来你按以下步骤与我进行互动：\n",
      "1. 给出你对写一本介绍云原生工程实践的书的理解，并询问我想要做什么。\n",
      "2. 用 SMART 模型帮我制定目标，并询问我是否需要修改这些目标，直到我满意为止。\n",
      "3. 为每一个目标制定一个计划，并询问我是否需要修改这些计划，直到我满意为止。\n",
      "4. 用表格输出这些目标和计划\n",
      "\n"
     ]
    }
   ],
   "source": [
    "import senario\n",
    "\n",
    "propmt = senario.cot_prompt_expert.format()\n",
    "print(propmt)\n",
    "\n",
    "propmt = senario.lcot_expert.format(role=\"云原生专家\", topic=\"写一本介绍云原生工程实践的书\")\n",
    "print(propmt)"
   ]
  }
 ],
 "metadata": {
  "kernelspec": {
   "display_name": "Python 3",
   "language": "python",
   "name": "python3"
  },
  "language_info": {
   "codemirror_mode": {
    "name": "ipython",
    "version": 3
   },
   "file_extension": ".py",
   "mimetype": "text/x-python",
   "name": "python",
   "nbconvert_exporter": "python",
   "pygments_lexer": "ipython3",
   "version": "3.11.4"
  },
  "orig_nbformat": 4
 },
 "nbformat": 4,
 "nbformat_minor": 2
}
